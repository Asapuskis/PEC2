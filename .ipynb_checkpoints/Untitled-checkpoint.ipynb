{
 "cells": [
  {
   "cell_type": "code",
   "execution_count": 21,
   "metadata": {},
   "outputs": [],
   "source": [
    "#Imports\n",
    "\n",
    "import numpy as np\n",
    "import pandas as pd\n",
    "import json\n",
    "import requests\n"
   ]
  },
  {
   "cell_type": "code",
   "execution_count": 32,
   "metadata": {},
   "outputs": [
    {
     "name": "stdout",
     "output_type": "stream",
     "text": [
      "{'items': [{'tags': ['python', 'numpy', 'tensordot'], 'owner': {'reputation': 1, 'user_id': 11042014, 'user_type': 'registered', 'profile_image': 'https://lh4.googleusercontent.com/---SwG1YDQp4/AAAAAAAAAAI/AAAAAAAAAAA/ACevoQM0M3Wb0Wc8qog6oaTpXCgzBF-c5w/mo/photo.jpg?sz=128', 'display_name': 'Kevin Richard', 'link': 'https://stackoverflow.com/users/11042014/kevin-richard'}, 'is_answered': True, 'view_count': 17, 'answer_count': 1, 'score': 0, 'last_activity_date': 1549835842, 'creation_date': 1549822893, 'last_edit_date': 1549824338, 'question_id': 54619556, 'link': 'https://stackoverflow.com/questions/54619556/tensordot-for-vectors-in-numpy', 'title': 'Tensordot for vectors in numpy'}], 'has_more': True, 'quota_max': 300, 'quota_remaining': 195}\n",
      "{'items': [{'tags': ['python', 'arrays', 'numpy', 'indexing', 'append'], 'owner': {'reputation': 1, 'user_id': 10034375, 'user_type': 'registered', 'profile_image': 'https://lh3.googleusercontent.com/-hqmOE73aGL0/AAAAAAAAAAI/AAAAAAAAAg4/jLqaou81ZOY/photo.jpg?sz=128', 'display_name': 'God Of Gaming', 'link': 'https://stackoverflow.com/users/10034375/god-of-gaming'}, 'is_answered': False, 'view_count': 35, 'answer_count': 2, 'score': 0, 'last_activity_date': 1549835855, 'creation_date': 1549832618, 'question_id': 54621052, 'link': 'https://stackoverflow.com/questions/54621052/how-to-index-an-element-that-has-been-appended-to-a-1d-numpy-array-python', 'title': 'how to index an element that has been appended to a 1d numpy array python'}], 'has_more': True, 'quota_max': 300, 'quota_remaining': 195}\n",
      "{'items': [{'tags': ['python', 'numpy', 'tensordot'], 'owner': {'reputation': 1, 'user_id': 11042014, 'user_type': 'registered', 'profile_image': 'https://lh4.googleusercontent.com/---SwG1YDQp4/AAAAAAAAAAI/AAAAAAAAAAA/ACevoQM0M3Wb0Wc8qog6oaTpXCgzBF-c5w/mo/photo.jpg?sz=128', 'display_name': 'Kevin Richard', 'link': 'https://stackoverflow.com/users/11042014/kevin-richard'}, 'is_answered': True, 'view_count': 17, 'answer_count': 1, 'score': 0, 'last_activity_date': 1549835842, 'creation_date': 1549822893, 'last_edit_date': 1549824338, 'question_id': 54619556, 'link': 'https://stackoverflow.com/questions/54619556/tensordot-for-vectors-in-numpy', 'title': 'Tensordot for vectors in numpy'}], 'has_more': True, 'quota_max': 300, 'quota_remaining': 193}\n",
      "{'items': [{'tags': ['python', 'numpy', 'tensordot'], 'owner': {'reputation': 1, 'user_id': 11042014, 'user_type': 'registered', 'profile_image': 'https://lh4.googleusercontent.com/---SwG1YDQp4/AAAAAAAAAAI/AAAAAAAAAAA/ACevoQM0M3Wb0Wc8qog6oaTpXCgzBF-c5w/mo/photo.jpg?sz=128', 'display_name': 'Kevin Richard', 'link': 'https://stackoverflow.com/users/11042014/kevin-richard'}, 'is_answered': True, 'view_count': 17, 'answer_count': 1, 'score': 0, 'last_activity_date': 1549835842, 'creation_date': 1549822893, 'last_edit_date': 1549824338, 'question_id': 54619556, 'link': 'https://stackoverflow.com/questions/54619556/tensordot-for-vectors-in-numpy', 'title': 'Tensordot for vectors in numpy'}], 'has_more': True, 'quota_max': 300, 'quota_remaining': 192}\n",
      "{'items': [{'tags': ['python', 'python-2.7'], 'owner': {'reputation': 1583, 'user_id': 8291684, 'user_type': 'registered', 'accept_rate': 100, 'profile_image': 'https://i.stack.imgur.com/GjzJH.png?s=128&g=1', 'display_name': 'OPV', 'link': 'https://stackoverflow.com/users/8291684/opv'}, 'is_answered': False, 'view_count': 14, 'answer_count': 1, 'score': 0, 'last_activity_date': 1549835868, 'creation_date': 1549834964, 'last_edit_date': 1549835868, 'question_id': 54621371, 'link': 'https://stackoverflow.com/questions/54621371/static-variable-in-python-set-value-from-another-class', 'title': 'Static variable in Python set value from another class?'}], 'has_more': True, 'quota_max': 300, 'quota_remaining': 191}\n",
      "{'items': [{'tags': ['python', 'arrays', 'numpy', 'indexing', 'append'], 'owner': {'reputation': 1, 'user_id': 10034375, 'user_type': 'registered', 'profile_image': 'https://lh3.googleusercontent.com/-hqmOE73aGL0/AAAAAAAAAAI/AAAAAAAAAg4/jLqaou81ZOY/photo.jpg?sz=128', 'display_name': 'God Of Gaming', 'link': 'https://stackoverflow.com/users/10034375/god-of-gaming'}, 'is_answered': False, 'view_count': 35, 'answer_count': 2, 'score': 0, 'last_activity_date': 1549835855, 'creation_date': 1549832618, 'question_id': 54621052, 'link': 'https://stackoverflow.com/questions/54621052/how-to-index-an-element-that-has-been-appended-to-a-1d-numpy-array-python', 'title': 'how to index an element that has been appended to a 1d numpy array python'}], 'has_more': True, 'quota_max': 300, 'quota_remaining': 191}\n",
      "{'items': [{'tags': ['python', 'arrays', 'numpy', 'indexing', 'append'], 'owner': {'reputation': 1, 'user_id': 10034375, 'user_type': 'registered', 'profile_image': 'https://lh3.googleusercontent.com/-hqmOE73aGL0/AAAAAAAAAAI/AAAAAAAAAg4/jLqaou81ZOY/photo.jpg?sz=128', 'display_name': 'God Of Gaming', 'link': 'https://stackoverflow.com/users/10034375/god-of-gaming'}, 'is_answered': False, 'view_count': 35, 'answer_count': 2, 'score': 0, 'last_activity_date': 1549835855, 'creation_date': 1549832618, 'question_id': 54621052, 'link': 'https://stackoverflow.com/questions/54621052/how-to-index-an-element-that-has-been-appended-to-a-1d-numpy-array-python', 'title': 'how to index an element that has been appended to a 1d numpy array python'}], 'has_more': True, 'quota_max': 300, 'quota_remaining': 190}\n",
      "{'items': [{'tags': ['python', 'arrays', 'numpy', 'indexing', 'append'], 'owner': {'reputation': 1, 'user_id': 10034375, 'user_type': 'registered', 'profile_image': 'https://lh3.googleusercontent.com/-hqmOE73aGL0/AAAAAAAAAAI/AAAAAAAAAg4/jLqaou81ZOY/photo.jpg?sz=128', 'display_name': 'God Of Gaming', 'link': 'https://stackoverflow.com/users/10034375/god-of-gaming'}, 'is_answered': False, 'view_count': 35, 'answer_count': 2, 'score': 0, 'last_activity_date': 1549835855, 'creation_date': 1549832618, 'question_id': 54621052, 'link': 'https://stackoverflow.com/questions/54621052/how-to-index-an-element-that-has-been-appended-to-a-1d-numpy-array-python', 'title': 'how to index an element that has been appended to a 1d numpy array python'}], 'has_more': True, 'quota_max': 300, 'quota_remaining': 188}\n",
      "{'items': [{'tags': ['python', 'python-2.7'], 'owner': {'reputation': 1583, 'user_id': 8291684, 'user_type': 'registered', 'accept_rate': 100, 'profile_image': 'https://i.stack.imgur.com/GjzJH.png?s=128&g=1', 'display_name': 'OPV', 'link': 'https://stackoverflow.com/users/8291684/opv'}, 'is_answered': False, 'view_count': 14, 'answer_count': 1, 'score': 0, 'last_activity_date': 1549835868, 'creation_date': 1549834964, 'last_edit_date': 1549835868, 'question_id': 54621371, 'link': 'https://stackoverflow.com/questions/54621371/static-variable-in-python-set-value-from-another-class', 'title': 'Static variable in Python set value from another class?'}], 'has_more': True, 'quota_max': 300, 'quota_remaining': 188}\n"
     ]
    },
    {
     "ename": "KeyError",
     "evalue": "''",
     "output_type": "error",
     "traceback": [
      "\u001b[1;31m---------------------------------------------------------------------------\u001b[0m",
      "\u001b[1;31mKeyError\u001b[0m                                  Traceback (most recent call last)",
      "\u001b[1;32m~\\Anaconda3\\lib\\site-packages\\pandas\\core\\indexes\\base.py\u001b[0m in \u001b[0;36mget_loc\u001b[1;34m(self, key, method, tolerance)\u001b[0m\n\u001b[0;32m   3077\u001b[0m             \u001b[1;32mtry\u001b[0m\u001b[1;33m:\u001b[0m\u001b[1;33m\u001b[0m\u001b[1;33m\u001b[0m\u001b[0m\n\u001b[1;32m-> 3078\u001b[1;33m                 \u001b[1;32mreturn\u001b[0m \u001b[0mself\u001b[0m\u001b[1;33m.\u001b[0m\u001b[0m_engine\u001b[0m\u001b[1;33m.\u001b[0m\u001b[0mget_loc\u001b[0m\u001b[1;33m(\u001b[0m\u001b[0mkey\u001b[0m\u001b[1;33m)\u001b[0m\u001b[1;33m\u001b[0m\u001b[1;33m\u001b[0m\u001b[0m\n\u001b[0m\u001b[0;32m   3079\u001b[0m             \u001b[1;32mexcept\u001b[0m \u001b[0mKeyError\u001b[0m\u001b[1;33m:\u001b[0m\u001b[1;33m\u001b[0m\u001b[1;33m\u001b[0m\u001b[0m\n",
      "\u001b[1;32mpandas\\_libs\\index.pyx\u001b[0m in \u001b[0;36mpandas._libs.index.IndexEngine.get_loc\u001b[1;34m()\u001b[0m\n",
      "\u001b[1;32mpandas\\_libs\\index.pyx\u001b[0m in \u001b[0;36mpandas._libs.index.IndexEngine.get_loc\u001b[1;34m()\u001b[0m\n",
      "\u001b[1;32mpandas\\_libs\\hashtable_class_helper.pxi\u001b[0m in \u001b[0;36mpandas._libs.hashtable.PyObjectHashTable.get_item\u001b[1;34m()\u001b[0m\n",
      "\u001b[1;32mpandas\\_libs\\hashtable_class_helper.pxi\u001b[0m in \u001b[0;36mpandas._libs.hashtable.PyObjectHashTable.get_item\u001b[1;34m()\u001b[0m\n",
      "\u001b[1;31mKeyError\u001b[0m: ''",
      "\nDuring handling of the above exception, another exception occurred:\n",
      "\u001b[1;31mKeyError\u001b[0m                                  Traceback (most recent call last)",
      "\u001b[1;32m<ipython-input-32-e91962a3cfcb>\u001b[0m in \u001b[0;36m<module>\u001b[1;34m\u001b[0m\n\u001b[0;32m      7\u001b[0m     \u001b[0mprint\u001b[0m\u001b[1;33m(\u001b[0m\u001b[0mj\u001b[0m\u001b[1;33m)\u001b[0m\u001b[1;33m\u001b[0m\u001b[1;33m\u001b[0m\u001b[0m\n\u001b[0;32m      8\u001b[0m \u001b[1;33m\u001b[0m\u001b[0m\n\u001b[1;32m----> 9\u001b[1;33m \u001b[0mprint\u001b[0m\u001b[1;33m(\u001b[0m\u001b[0mdf\u001b[0m\u001b[1;33m[\u001b[0m\u001b[1;34m''\u001b[0m\u001b[1;33m]\u001b[0m\u001b[1;33m)\u001b[0m\u001b[1;33m\u001b[0m\u001b[1;33m\u001b[0m\u001b[0m\n\u001b[0m",
      "\u001b[1;32m~\\Anaconda3\\lib\\site-packages\\pandas\\core\\frame.py\u001b[0m in \u001b[0;36m__getitem__\u001b[1;34m(self, key)\u001b[0m\n\u001b[0;32m   2686\u001b[0m             \u001b[1;32mreturn\u001b[0m \u001b[0mself\u001b[0m\u001b[1;33m.\u001b[0m\u001b[0m_getitem_multilevel\u001b[0m\u001b[1;33m(\u001b[0m\u001b[0mkey\u001b[0m\u001b[1;33m)\u001b[0m\u001b[1;33m\u001b[0m\u001b[1;33m\u001b[0m\u001b[0m\n\u001b[0;32m   2687\u001b[0m         \u001b[1;32melse\u001b[0m\u001b[1;33m:\u001b[0m\u001b[1;33m\u001b[0m\u001b[1;33m\u001b[0m\u001b[0m\n\u001b[1;32m-> 2688\u001b[1;33m             \u001b[1;32mreturn\u001b[0m \u001b[0mself\u001b[0m\u001b[1;33m.\u001b[0m\u001b[0m_getitem_column\u001b[0m\u001b[1;33m(\u001b[0m\u001b[0mkey\u001b[0m\u001b[1;33m)\u001b[0m\u001b[1;33m\u001b[0m\u001b[1;33m\u001b[0m\u001b[0m\n\u001b[0m\u001b[0;32m   2689\u001b[0m \u001b[1;33m\u001b[0m\u001b[0m\n\u001b[0;32m   2690\u001b[0m     \u001b[1;32mdef\u001b[0m \u001b[0m_getitem_column\u001b[0m\u001b[1;33m(\u001b[0m\u001b[0mself\u001b[0m\u001b[1;33m,\u001b[0m \u001b[0mkey\u001b[0m\u001b[1;33m)\u001b[0m\u001b[1;33m:\u001b[0m\u001b[1;33m\u001b[0m\u001b[1;33m\u001b[0m\u001b[0m\n",
      "\u001b[1;32m~\\Anaconda3\\lib\\site-packages\\pandas\\core\\frame.py\u001b[0m in \u001b[0;36m_getitem_column\u001b[1;34m(self, key)\u001b[0m\n\u001b[0;32m   2693\u001b[0m         \u001b[1;31m# get column\u001b[0m\u001b[1;33m\u001b[0m\u001b[1;33m\u001b[0m\u001b[1;33m\u001b[0m\u001b[0m\n\u001b[0;32m   2694\u001b[0m         \u001b[1;32mif\u001b[0m \u001b[0mself\u001b[0m\u001b[1;33m.\u001b[0m\u001b[0mcolumns\u001b[0m\u001b[1;33m.\u001b[0m\u001b[0mis_unique\u001b[0m\u001b[1;33m:\u001b[0m\u001b[1;33m\u001b[0m\u001b[1;33m\u001b[0m\u001b[0m\n\u001b[1;32m-> 2695\u001b[1;33m             \u001b[1;32mreturn\u001b[0m \u001b[0mself\u001b[0m\u001b[1;33m.\u001b[0m\u001b[0m_get_item_cache\u001b[0m\u001b[1;33m(\u001b[0m\u001b[0mkey\u001b[0m\u001b[1;33m)\u001b[0m\u001b[1;33m\u001b[0m\u001b[1;33m\u001b[0m\u001b[0m\n\u001b[0m\u001b[0;32m   2696\u001b[0m \u001b[1;33m\u001b[0m\u001b[0m\n\u001b[0;32m   2697\u001b[0m         \u001b[1;31m# duplicate columns & possible reduce dimensionality\u001b[0m\u001b[1;33m\u001b[0m\u001b[1;33m\u001b[0m\u001b[1;33m\u001b[0m\u001b[0m\n",
      "\u001b[1;32m~\\Anaconda3\\lib\\site-packages\\pandas\\core\\generic.py\u001b[0m in \u001b[0;36m_get_item_cache\u001b[1;34m(self, item)\u001b[0m\n\u001b[0;32m   2487\u001b[0m         \u001b[0mres\u001b[0m \u001b[1;33m=\u001b[0m \u001b[0mcache\u001b[0m\u001b[1;33m.\u001b[0m\u001b[0mget\u001b[0m\u001b[1;33m(\u001b[0m\u001b[0mitem\u001b[0m\u001b[1;33m)\u001b[0m\u001b[1;33m\u001b[0m\u001b[1;33m\u001b[0m\u001b[0m\n\u001b[0;32m   2488\u001b[0m         \u001b[1;32mif\u001b[0m \u001b[0mres\u001b[0m \u001b[1;32mis\u001b[0m \u001b[1;32mNone\u001b[0m\u001b[1;33m:\u001b[0m\u001b[1;33m\u001b[0m\u001b[1;33m\u001b[0m\u001b[0m\n\u001b[1;32m-> 2489\u001b[1;33m             \u001b[0mvalues\u001b[0m \u001b[1;33m=\u001b[0m \u001b[0mself\u001b[0m\u001b[1;33m.\u001b[0m\u001b[0m_data\u001b[0m\u001b[1;33m.\u001b[0m\u001b[0mget\u001b[0m\u001b[1;33m(\u001b[0m\u001b[0mitem\u001b[0m\u001b[1;33m)\u001b[0m\u001b[1;33m\u001b[0m\u001b[1;33m\u001b[0m\u001b[0m\n\u001b[0m\u001b[0;32m   2490\u001b[0m             \u001b[0mres\u001b[0m \u001b[1;33m=\u001b[0m \u001b[0mself\u001b[0m\u001b[1;33m.\u001b[0m\u001b[0m_box_item_values\u001b[0m\u001b[1;33m(\u001b[0m\u001b[0mitem\u001b[0m\u001b[1;33m,\u001b[0m \u001b[0mvalues\u001b[0m\u001b[1;33m)\u001b[0m\u001b[1;33m\u001b[0m\u001b[1;33m\u001b[0m\u001b[0m\n\u001b[0;32m   2491\u001b[0m             \u001b[0mcache\u001b[0m\u001b[1;33m[\u001b[0m\u001b[0mitem\u001b[0m\u001b[1;33m]\u001b[0m \u001b[1;33m=\u001b[0m \u001b[0mres\u001b[0m\u001b[1;33m\u001b[0m\u001b[1;33m\u001b[0m\u001b[0m\n",
      "\u001b[1;32m~\\Anaconda3\\lib\\site-packages\\pandas\\core\\internals.py\u001b[0m in \u001b[0;36mget\u001b[1;34m(self, item, fastpath)\u001b[0m\n\u001b[0;32m   4113\u001b[0m \u001b[1;33m\u001b[0m\u001b[0m\n\u001b[0;32m   4114\u001b[0m             \u001b[1;32mif\u001b[0m \u001b[1;32mnot\u001b[0m \u001b[0misna\u001b[0m\u001b[1;33m(\u001b[0m\u001b[0mitem\u001b[0m\u001b[1;33m)\u001b[0m\u001b[1;33m:\u001b[0m\u001b[1;33m\u001b[0m\u001b[1;33m\u001b[0m\u001b[0m\n\u001b[1;32m-> 4115\u001b[1;33m                 \u001b[0mloc\u001b[0m \u001b[1;33m=\u001b[0m \u001b[0mself\u001b[0m\u001b[1;33m.\u001b[0m\u001b[0mitems\u001b[0m\u001b[1;33m.\u001b[0m\u001b[0mget_loc\u001b[0m\u001b[1;33m(\u001b[0m\u001b[0mitem\u001b[0m\u001b[1;33m)\u001b[0m\u001b[1;33m\u001b[0m\u001b[1;33m\u001b[0m\u001b[0m\n\u001b[0m\u001b[0;32m   4116\u001b[0m             \u001b[1;32melse\u001b[0m\u001b[1;33m:\u001b[0m\u001b[1;33m\u001b[0m\u001b[1;33m\u001b[0m\u001b[0m\n\u001b[0;32m   4117\u001b[0m                 \u001b[0mindexer\u001b[0m \u001b[1;33m=\u001b[0m \u001b[0mnp\u001b[0m\u001b[1;33m.\u001b[0m\u001b[0marange\u001b[0m\u001b[1;33m(\u001b[0m\u001b[0mlen\u001b[0m\u001b[1;33m(\u001b[0m\u001b[0mself\u001b[0m\u001b[1;33m.\u001b[0m\u001b[0mitems\u001b[0m\u001b[1;33m)\u001b[0m\u001b[1;33m)\u001b[0m\u001b[1;33m[\u001b[0m\u001b[0misna\u001b[0m\u001b[1;33m(\u001b[0m\u001b[0mself\u001b[0m\u001b[1;33m.\u001b[0m\u001b[0mitems\u001b[0m\u001b[1;33m)\u001b[0m\u001b[1;33m]\u001b[0m\u001b[1;33m\u001b[0m\u001b[1;33m\u001b[0m\u001b[0m\n",
      "\u001b[1;32m~\\Anaconda3\\lib\\site-packages\\pandas\\core\\indexes\\base.py\u001b[0m in \u001b[0;36mget_loc\u001b[1;34m(self, key, method, tolerance)\u001b[0m\n\u001b[0;32m   3078\u001b[0m                 \u001b[1;32mreturn\u001b[0m \u001b[0mself\u001b[0m\u001b[1;33m.\u001b[0m\u001b[0m_engine\u001b[0m\u001b[1;33m.\u001b[0m\u001b[0mget_loc\u001b[0m\u001b[1;33m(\u001b[0m\u001b[0mkey\u001b[0m\u001b[1;33m)\u001b[0m\u001b[1;33m\u001b[0m\u001b[1;33m\u001b[0m\u001b[0m\n\u001b[0;32m   3079\u001b[0m             \u001b[1;32mexcept\u001b[0m \u001b[0mKeyError\u001b[0m\u001b[1;33m:\u001b[0m\u001b[1;33m\u001b[0m\u001b[1;33m\u001b[0m\u001b[0m\n\u001b[1;32m-> 3080\u001b[1;33m                 \u001b[1;32mreturn\u001b[0m \u001b[0mself\u001b[0m\u001b[1;33m.\u001b[0m\u001b[0m_engine\u001b[0m\u001b[1;33m.\u001b[0m\u001b[0mget_loc\u001b[0m\u001b[1;33m(\u001b[0m\u001b[0mself\u001b[0m\u001b[1;33m.\u001b[0m\u001b[0m_maybe_cast_indexer\u001b[0m\u001b[1;33m(\u001b[0m\u001b[0mkey\u001b[0m\u001b[1;33m)\u001b[0m\u001b[1;33m)\u001b[0m\u001b[1;33m\u001b[0m\u001b[1;33m\u001b[0m\u001b[0m\n\u001b[0m\u001b[0;32m   3081\u001b[0m \u001b[1;33m\u001b[0m\u001b[0m\n\u001b[0;32m   3082\u001b[0m         \u001b[0mindexer\u001b[0m \u001b[1;33m=\u001b[0m \u001b[0mself\u001b[0m\u001b[1;33m.\u001b[0m\u001b[0mget_indexer\u001b[0m\u001b[1;33m(\u001b[0m\u001b[1;33m[\u001b[0m\u001b[0mkey\u001b[0m\u001b[1;33m]\u001b[0m\u001b[1;33m,\u001b[0m \u001b[0mmethod\u001b[0m\u001b[1;33m=\u001b[0m\u001b[0mmethod\u001b[0m\u001b[1;33m,\u001b[0m \u001b[0mtolerance\u001b[0m\u001b[1;33m=\u001b[0m\u001b[0mtolerance\u001b[0m\u001b[1;33m)\u001b[0m\u001b[1;33m\u001b[0m\u001b[1;33m\u001b[0m\u001b[0m\n",
      "\u001b[1;32mpandas\\_libs\\index.pyx\u001b[0m in \u001b[0;36mpandas._libs.index.IndexEngine.get_loc\u001b[1;34m()\u001b[0m\n",
      "\u001b[1;32mpandas\\_libs\\index.pyx\u001b[0m in \u001b[0;36mpandas._libs.index.IndexEngine.get_loc\u001b[1;34m()\u001b[0m\n",
      "\u001b[1;32mpandas\\_libs\\hashtable_class_helper.pxi\u001b[0m in \u001b[0;36mpandas._libs.hashtable.PyObjectHashTable.get_item\u001b[1;34m()\u001b[0m\n",
      "\u001b[1;32mpandas\\_libs\\hashtable_class_helper.pxi\u001b[0m in \u001b[0;36mpandas._libs.hashtable.PyObjectHashTable.get_item\u001b[1;34m()\u001b[0m\n",
      "\u001b[1;31mKeyError\u001b[0m: ''"
     ]
    }
   ],
   "source": [
    "columns = ['userID','questionID', 'title', 'answered', 'watched', ]\n",
    "df = pd.DataFrame(columns=columns)\n",
    "\n",
    "page = 1\n",
    "query = \"https://api.stackexchange.com/2.2/questions?page=\" + str(page) + \"&pagesize=1&order=desc&sort=activity&tagged=python&site=stackoverflow\"\n",
    "\n",
    "for i in range(1,10):\n",
    "    r = requests.get(query)\n",
    "    j = json.loads(r.text)\n",
    "    df = pd.DataFrame(j)\n",
    "    \n",
    "\n",
    "    \n",
    "print(df[''])"
   ]
  },
  {
   "cell_type": "code",
   "execution_count": null,
   "metadata": {},
   "outputs": [],
   "source": []
  }
 ],
 "metadata": {
  "kernelspec": {
   "display_name": "Python 3",
   "language": "python",
   "name": "python3"
  },
  "language_info": {
   "codemirror_mode": {
    "name": "ipython",
    "version": 3
   },
   "file_extension": ".py",
   "mimetype": "text/x-python",
   "name": "python",
   "nbconvert_exporter": "python",
   "pygments_lexer": "ipython3",
   "version": "3.7.1"
  }
 },
 "nbformat": 4,
 "nbformat_minor": 2
}
